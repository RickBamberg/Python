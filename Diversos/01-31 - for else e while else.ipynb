{
 "cells": [
  {
   "cell_type": "markdown",
   "id": "b6b4a6c7",
   "metadata": {},
   "source": [
    "### For Else? While Else?"
   ]
  },
  {
   "cell_type": "code",
   "execution_count": 10,
   "id": "eedde8f4",
   "metadata": {},
   "outputs": [
    {
     "name": "stdout",
     "output_type": "stream",
     "text": [
      "Não vai pagar imposto\n"
     ]
    }
   ],
   "source": [
    "lista_vendas = [7000, 5000, 8500, 9000, 10000, 150, 25]\n",
    "\n",
    "for venda in lista_vendas:\n",
    "    if venda > 8000:\n",
    "        print(\"Vai pagar imposto\")\n",
    "        break\n",
    "    "
   ]
  },
  {
   "cell_type": "code",
   "execution_count": null,
   "id": "a9002547",
   "metadata": {},
   "outputs": [],
   "source": []
  }
 ],
 "metadata": {
  "kernelspec": {
   "display_name": "Python 3 (ipykernel)",
   "language": "python",
   "name": "python3"
  },
  "language_info": {
   "codemirror_mode": {
    "name": "ipython",
    "version": 3
   },
   "file_extension": ".py",
   "mimetype": "text/x-python",
   "name": "python",
   "nbconvert_exporter": "python",
   "pygments_lexer": "ipython3",
   "version": "3.10.9"
  }
 },
 "nbformat": 4,
 "nbformat_minor": 5
}
