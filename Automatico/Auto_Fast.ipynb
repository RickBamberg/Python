{
 "cells": [
  {
   "cell_type": "code",
   "execution_count": null,
   "id": "096bbaa9-98cd-4109-9276-82b3fab940fb",
   "metadata": {},
   "outputs": [],
   "source": [
    "#!pip install pyautogui"
   ]
  },
  {
   "cell_type": "code",
   "execution_count": 6,
   "id": "d7d72334-035d-4ccb-be64-a4793dde5610",
   "metadata": {},
   "outputs": [],
   "source": [
    "import pandas as pd\n",
    "import pyautogui\n",
    "import time"
   ]
  },
  {
   "cell_type": "code",
   "execution_count": 7,
   "id": "3d0123a9-fc2e-4ea7-af0e-5861386e344a",
   "metadata": {},
   "outputs": [],
   "source": [
    "# Lê a planilha\n",
    "df = pd.read_excel('exemplo_buchas.xlsx')  # ou CSV se preferir"
   ]
  },
  {
   "cell_type": "code",
   "execution_count": 8,
   "id": "96f28e11-2c82-4fe3-b4a3-4b40ac0a059a",
   "metadata": {},
   "outputs": [],
   "source": [
    "df = df.fillna(\" \")"
   ]
  },
  {
   "cell_type": "code",
   "execution_count": 9,
   "id": "52d1587e-b2a0-4ae6-9f80-cab0c83337a8",
   "metadata": {},
   "outputs": [
    {
     "data": {
      "text/html": [
       "<div>\n",
       "<style scoped>\n",
       "    .dataframe tbody tr th:only-of-type {\n",
       "        vertical-align: middle;\n",
       "    }\n",
       "\n",
       "    .dataframe tbody tr th {\n",
       "        vertical-align: top;\n",
       "    }\n",
       "\n",
       "    .dataframe thead th {\n",
       "        text-align: right;\n",
       "    }\n",
       "</style>\n",
       "<table border=\"1\" class=\"dataframe\">\n",
       "  <thead>\n",
       "    <tr style=\"text-align: right;\">\n",
       "      <th></th>\n",
       "      <th>Coluna1</th>\n",
       "      <th>Coluna2</th>\n",
       "      <th>Coluna3</th>\n",
       "      <th>Coluna4</th>\n",
       "      <th>Coluna5</th>\n",
       "      <th>Coluna6</th>\n",
       "      <th>Coluna7</th>\n",
       "      <th>Coluna8</th>\n",
       "      <th>Coluna9</th>\n",
       "      <th>Coluna10</th>\n",
       "      <th>Coluna11</th>\n",
       "      <th>Coluna12</th>\n",
       "      <th>Coluna13</th>\n",
       "      <th>Coluna14</th>\n",
       "      <th>Coluna15</th>\n",
       "      <th>Coluna16</th>\n",
       "    </tr>\n",
       "  </thead>\n",
       "  <tbody>\n",
       "    <tr>\n",
       "      <th>0</th>\n",
       "      <td>5000</td>\n",
       "      <td>63</td>\n",
       "      <td>M825</td>\n",
       "      <td></td>\n",
       "      <td>BUCHA</td>\n",
       "      <td>METALICA</td>\n",
       "      <td>AMERICANA</td>\n",
       "      <td>-</td>\n",
       "      <td>-</td>\n",
       "      <td>M8</td>\n",
       "      <td>X 25MM</td>\n",
       "      <td>-</td>\n",
       "      <td>-</td>\n",
       "      <td>-</td>\n",
       "      <td>-</td>\n",
       "      <td>-</td>\n",
       "    </tr>\n",
       "    <tr>\n",
       "      <th>1</th>\n",
       "      <td>18548</td>\n",
       "      <td>64</td>\n",
       "      <td>603214</td>\n",
       "      <td></td>\n",
       "      <td>BUCHA</td>\n",
       "      <td>PLASTICA</td>\n",
       "      <td>NYLON FU</td>\n",
       "      <td>08</td>\n",
       "      <td>-</td>\n",
       "      <td>-</td>\n",
       "      <td>X 50MM</td>\n",
       "      <td>-</td>\n",
       "      <td>-</td>\n",
       "      <td>-</td>\n",
       "      <td>FISCHER</td>\n",
       "      <td>-</td>\n",
       "    </tr>\n",
       "    <tr>\n",
       "      <th>2</th>\n",
       "      <td>27934</td>\n",
       "      <td>65</td>\n",
       "      <td></td>\n",
       "      <td></td>\n",
       "      <td>BUCHA</td>\n",
       "      <td>PLASTICA</td>\n",
       "      <td>NYLON</td>\n",
       "      <td>-</td>\n",
       "      <td>-</td>\n",
       "      <td>-</td>\n",
       "      <td>-</td>\n",
       "      <td>PARA GESSO</td>\n",
       "      <td>HDF</td>\n",
       "      <td>-</td>\n",
       "      <td>FISCHER</td>\n",
       "      <td>-</td>\n",
       "    </tr>\n",
       "    <tr>\n",
       "      <th>3</th>\n",
       "      <td>519</td>\n",
       "      <td>66</td>\n",
       "      <td>1860</td>\n",
       "      <td></td>\n",
       "      <td>BUCHA</td>\n",
       "      <td>PLASTICA</td>\n",
       "      <td>NYLON</td>\n",
       "      <td>S6MM</td>\n",
       "      <td>-</td>\n",
       "      <td>-</td>\n",
       "      <td>-</td>\n",
       "      <td>-</td>\n",
       "      <td>-</td>\n",
       "      <td>-</td>\n",
       "      <td>SFORPLAST</td>\n",
       "      <td>-</td>\n",
       "    </tr>\n",
       "    <tr>\n",
       "      <th>4</th>\n",
       "      <td>1333</td>\n",
       "      <td>67</td>\n",
       "      <td>7,89849E+12</td>\n",
       "      <td></td>\n",
       "      <td>BUCHA</td>\n",
       "      <td>PLASTICA</td>\n",
       "      <td>NYLON</td>\n",
       "      <td>S8MM</td>\n",
       "      <td>-</td>\n",
       "      <td>-</td>\n",
       "      <td>-</td>\n",
       "      <td>-</td>\n",
       "      <td>-</td>\n",
       "      <td>-</td>\n",
       "      <td>SFORPLAST</td>\n",
       "      <td>-</td>\n",
       "    </tr>\n",
       "  </tbody>\n",
       "</table>\n",
       "</div>"
      ],
      "text/plain": [
       "   Coluna1  Coluna2      Coluna3 Coluna4 Coluna5   Coluna6    Coluna7 Coluna8  \\\n",
       "0     5000       63         M825           BUCHA  METALICA  AMERICANA       -   \n",
       "1    18548       64       603214           BUCHA  PLASTICA   NYLON FU      08   \n",
       "2    27934       65                        BUCHA  PLASTICA      NYLON       -   \n",
       "3      519       66         1860           BUCHA  PLASTICA      NYLON    S6MM   \n",
       "4     1333       67  7,89849E+12           BUCHA  PLASTICA      NYLON    S8MM   \n",
       "\n",
       "  Coluna9 Coluna10 Coluna11    Coluna12 Coluna13 Coluna14   Coluna15 Coluna16  \n",
       "0       -       M8   X 25MM           -        -        -          -        -  \n",
       "1       -        -   X 50MM           -        -        -    FISCHER        -  \n",
       "2       -        -        -  PARA GESSO      HDF        -    FISCHER        -  \n",
       "3       -        -        -           -        -        -  SFORPLAST        -  \n",
       "4       -        -        -           -        -        -  SFORPLAST        -  "
      ]
     },
     "execution_count": 9,
     "metadata": {},
     "output_type": "execute_result"
    }
   ],
   "source": [
    "df.head()"
   ]
  },
  {
   "cell_type": "code",
   "execution_count": 10,
   "id": "a4bd6a1c-3198-4fd2-ac39-59f35b752976",
   "metadata": {},
   "outputs": [
    {
     "name": "stdout",
     "output_type": "stream",
     "text": [
      "Você tem 5 segundos para ir até a tela e posicionar o cursor no primeiro campo...\n"
     ]
    }
   ],
   "source": [
    "# Dá um tempo para você ir até a tela e clicar no primeiro campo\n",
    "print(\"Você tem 5 segundos para ir até a tela e posicionar o cursor no primeiro campo...\")\n",
    "time.sleep(5)\n",
    "\n",
    "# Loop pelas linhas da planilha\n",
    "for index, row in df.iterrows():\n",
    "    for cell in row:\n",
    "        pyautogui.write(str(cell))   # Digita o conteúdo da célula\n",
    "        pyautogui.press('tab')       # Vai para o próximo campo\n",
    "        time.sleep(0.05)             # Pequeno delay para segurança (ajustável)\n",
    "    pyautogui.press('enter')         # Submete após cada linha completa\n",
    "    time.sleep(1)          "
   ]
  },
  {
   "cell_type": "code",
   "execution_count": null,
   "id": "7321b00e-cbab-4dc7-8511-d333f2909cc9",
   "metadata": {},
   "outputs": [],
   "source": []
  }
 ],
 "metadata": {
  "kernelspec": {
   "display_name": "Python 3 (ipykernel)",
   "language": "python",
   "name": "python3"
  },
  "language_info": {
   "codemirror_mode": {
    "name": "ipython",
    "version": 3
   },
   "file_extension": ".py",
   "mimetype": "text/x-python",
   "name": "python",
   "nbconvert_exporter": "python",
   "pygments_lexer": "ipython3",
   "version": "3.12.4"
  }
 },
 "nbformat": 4,
 "nbformat_minor": 5
}
