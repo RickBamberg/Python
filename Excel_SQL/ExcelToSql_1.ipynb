{
 "cells": [
  {
   "cell_type": "code",
   "execution_count": 15,
   "id": "bce7bdf7",
   "metadata": {},
   "outputs": [
    {
     "name": "stdout",
     "output_type": "stream",
     "text": [
      "Passed Connect Sql Server\n",
      "Passed reading Excel\n",
      "Passed writing Excel to Sql Server\n"
     ]
    }
   ],
   "source": [
    "# ExcelToSql\n",
    "#---------------------------------------------------#\n",
    "# Importação das Bibliotecas                        #\n",
    "#---------------------------------------------------#\n",
    "import sqlalchemy as sa\n",
    "from sqlalchemy import create_engine\n",
    "import urllib.parse\n",
    "import pyodbc as db\n",
    "import pandas as pd\n",
    "from pandas.io import sql\n",
    "\n",
    "#---------------------------------------------------#\n",
    "# Funções definidas pelo Usuário                     #\n",
    "#---------------------------------------------------#\n",
    "def execute_query(connection, query):\n",
    "    cursor = connection.cursor()\n",
    "    try:\n",
    "        cursor.execute(query)\n",
    "    except Error:\n",
    "        print('Erro: ', error)\n",
    "\n",
    "server = 'RICK-01-RICK\\SQLEXPRESS'\n",
    "database = 'Python'\n",
    "username = ''\n",
    "password = ''\n",
    "constring = 'driver={SQL Server};server='+server+';database='+database+';Trusted_Connection=True'\n",
    "sqlstring = 'mssql+pyodbc://@'+server+ '/' +database+ '?trusted_connection=yes&driver=ODBC+Driver+13+for+SQL+Server'\n",
    "#params = urllib.parse.quote_plus(\"DRIVER={SQL Server Native Client 11.0};SERVER=RICK-01-RICK\\SQLEXPRESS;DATABASE=Python;Trusted_Connection=yes\")\n",
    "params = urllib.parse.quote_plus('DRIVER={SQL Server Native Client 11.0};SERVER='+server+';DATABASE='+database+';Trusted_Connection=yes')\n",
    "\n",
    "# Conexão com o Banco de Dados\n",
    "try:\n",
    "#    sql_conn = db.connect(constring)\n",
    "#    engine = create_engine(sqlstring)\n",
    "    engine = sa.create_engine(\"mssql+pyodbc:///?odbc_connect=%s\" % params)\n",
    "    print('Passed Connect Sql Server')\n",
    "except:\n",
    "    print('Failed Connect Sql Server!')\n",
    "    \n",
    "# Monta o DataFrame do Excel\n",
    "try:\n",
    "    df = pd.read_excel('Tickers.xlsx', engine = 'openpyxl')\n",
    "    print('Passed reading Excel')\n",
    "except:\n",
    "    print('Failed reading Excel!')\n",
    "\n",
    "try:\n",
    "    df.to_sql('Tickers', con=engine, if_exists='append', index=False)\n",
    "    print('Passed writing Excel to Sql Server')\n",
    "except:\n",
    "    print('Failed writing Excel to Sql Server!')\n",
    "\n",
    "#display(df)"
   ]
  },
  {
   "cell_type": "code",
   "execution_count": null,
   "id": "57b8cfc1",
   "metadata": {},
   "outputs": [],
   "source": []
  }
 ],
 "metadata": {
  "kernelspec": {
   "display_name": "Python 3 (ipykernel)",
   "language": "python",
   "name": "python3"
  },
  "language_info": {
   "codemirror_mode": {
    "name": "ipython",
    "version": 3
   },
   "file_extension": ".py",
   "mimetype": "text/x-python",
   "name": "python",
   "nbconvert_exporter": "python",
   "pygments_lexer": "ipython3",
   "version": "3.10.9"
  }
 },
 "nbformat": 4,
 "nbformat_minor": 5
}
