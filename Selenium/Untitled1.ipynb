{
 "cells": [
  {
   "cell_type": "code",
   "execution_count": null,
   "id": "243276f9",
   "metadata": {},
   "outputs": [],
   "source": [
    "# Pass0 1 - Importa Bibliotecas\n",
    "\n",
    "import pandas as pd\n",
    "import pyautogui\n",
    "import pyperclip\n",
    "import time\n",
    "from time import sleep"
   ]
  },
  {
   "cell_type": "code",
   "execution_count": null,
   "id": "3457b82a",
   "metadata": {},
   "outputs": [],
   "source": [
    "# Passo 2 - Calcular os indicadores\n",
    "\n",
    "# Importar a base de dados \n",
    "tabela = pd.read_csv(\"compras.csv\", sep=\";\")\n",
    "display(tabela)\n",
    "\n",
    "# Total gasto -> Somar total gasto\n",
    "total_gasto = tabela[\"ValorFinal\"].sum()\n",
    "# Quantidade -> Somar Quantidade\n",
    "quantidade = tabela[\"Quantidade\"].sum()\n",
    "# Preço medio -> Somar preço medio\n",
    "preco_medio = total_gasto / quantidade\n",
    "\n",
    "print(total_gasto)\n",
    "print(quantidade)\n",
    "print(preco_medio)"
   ]
  },
  {
   "cell_type": "code",
   "execution_count": null,
   "id": "0a7af638",
   "metadata": {},
   "outputs": [],
   "source": [
    "# Passo 5 - Enviar o e-mail para a diretoria / Chefe\n",
    "\n",
    "# Abrir o gmail\n",
    "\n",
    "pyautogui.hotkey(\"ctrl\", \"t\")\n",
    "pyautogui.write(\"https://mail.google.com/mail/u/0/#inbox\")\n",
    "pyautogui.press(\"enter\")\n",
    "\n",
    "sleep(5)\n",
    "pyautogui.click(x=58, y=200)\n",
    "sleep(5)\n",
    "\n",
    "# Escrevendo o conteudo do Email\n",
    "pyautogui.write(\"rick.bamberg@gmail.com\")\n",
    "pyautogui.press(\"tab\")\n",
    "pyautogui.press(\"tab\")\n",
    "pyautogui.write(\"Teste Python\")\n",
    "pyautogui.press(\"tab\")\n",
    "\n",
    "texto = f\"\"\"\n",
    "\n",
    "Prezados.\n",
    "\n",
    "Segue o relatório de compra\n",
    "\n",
    "Total gasto: R$ {total_gasto:,.2f}\n",
    "Quantidade de produtos: {quantidade:,}\n",
    "Preço médio: R$ {preco_medio:,.2f}\n",
    "\n",
    "Qualquer dúvida é só falar\n",
    "att.\n",
    "Rick\n",
    "\"\"\"\n",
    "sleep(5)\n",
    "pyperclip.copy(texto)\n",
    "pyautogui.hotkey(\"ctrl\", \"v\")\n",
    "pyautogui.hotkey(\"ctrl\", \"enter\")"
   ]
  },
  {
   "cell_type": "code",
   "execution_count": null,
   "id": "d8b6cb42",
   "metadata": {},
   "outputs": [],
   "source": [
    "# pega a posição do mouse\n",
    "sleep(10)\n",
    "print(pyautogui.position())"
   ]
  }
 ],
 "metadata": {
  "kernelspec": {
   "display_name": "Python 3 (ipykernel)",
   "language": "python",
   "name": "python3"
  },
  "language_info": {
   "codemirror_mode": {
    "name": "ipython",
    "version": 3
   },
   "file_extension": ".py",
   "mimetype": "text/x-python",
   "name": "python",
   "nbconvert_exporter": "python",
   "pygments_lexer": "ipython3",
   "version": "3.10.9"
  }
 },
 "nbformat": 4,
 "nbformat_minor": 5
}
