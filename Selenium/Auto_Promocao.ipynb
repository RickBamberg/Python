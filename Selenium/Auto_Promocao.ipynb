{
 "cells": [
  {
   "cell_type": "code",
   "execution_count": null,
   "id": "3509035d",
   "metadata": {},
   "outputs": [],
   "source": [
    "# LEMBRAR SEMPRE DE ACHA A POSIÇÃO DO MOUSE"
   ]
  },
  {
   "cell_type": "code",
   "execution_count": 2,
   "id": "38497958",
   "metadata": {},
   "outputs": [],
   "source": [
    "# Pass0 1 - Importa Bibliotecas\n",
    "\n",
    "import pandas as pd\n",
    "import pyautogui\n",
    "import pyperclip\n",
    "import time\n",
    "from time import sleep"
   ]
  },
  {
   "cell_type": "code",
   "execution_count": 13,
   "id": "7d35335f",
   "metadata": {},
   "outputs": [
    {
     "name": "stdout",
     "output_type": "stream",
     "text": [
      "Fim da Execução\n"
     ]
    }
   ],
   "source": [
    "# Passo 2 - Excluir as Promoções do Gmail\n",
    "\n",
    "# Abrir o gmail\n",
    "\n",
    "pyautogui.hotkey(\"ctrl\", \"t\")\n",
    "sleep(5)\n",
    "pyautogui.write(\"https://mail.google.com/mail/u/0/#inbox\")\n",
    "pyautogui.press(\"enter\")\n",
    "\n",
    "sleep(10)\n",
    "# Clicar em Promoções\n",
    "pyautogui.click(x=102, y=573)\n",
    "sleep(5)\n",
    "try:\n",
    "# Clicar em selecionar a pagina\n",
    "    pyautogui.click(x=281, y=191)\n",
    "    sleep(5)\n",
    "# Clicar na lixeira\n",
    "    pyautogui.click(x=662, y=191)\n",
    "    sleep(5)\n",
    "finally:\n",
    "    print('Fim da Execução')"
   ]
  },
  {
   "cell_type": "code",
   "execution_count": 6,
   "id": "b75cc6cc",
   "metadata": {},
   "outputs": [
    {
     "name": "stdout",
     "output_type": "stream",
     "text": [
      "Point(x=662, y=191)\n"
     ]
    }
   ],
   "source": [
    "# pega a posição do mouse\n",
    "sleep(10)\n",
    "print(pyautogui.position())"
   ]
  }
 ],
 "metadata": {
  "kernelspec": {
   "display_name": "Python 3 (ipykernel)",
   "language": "python",
   "name": "python3"
  },
  "language_info": {
   "codemirror_mode": {
    "name": "ipython",
    "version": 3
   },
   "file_extension": ".py",
   "mimetype": "text/x-python",
   "name": "python",
   "nbconvert_exporter": "python",
   "pygments_lexer": "ipython3",
   "version": "3.10.9"
  }
 },
 "nbformat": 4,
 "nbformat_minor": 5
}
