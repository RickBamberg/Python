{
 "cells": [
  {
   "cell_type": "code",
   "execution_count": 26,
   "id": "b511ce45",
   "metadata": {},
   "outputs": [],
   "source": [
    "# !pip install selenium"
   ]
  },
  {
   "cell_type": "code",
   "execution_count": 7,
   "id": "c58af58f",
   "metadata": {},
   "outputs": [
    {
     "name": "stdout",
     "output_type": "stream",
     "text": [
      "<function head at 0x0000019AA66FA9E0>\n"
     ]
    },
    {
     "data": {
      "text/plain": [
       "<function requests.api.head(url, **kwargs)>"
      ]
     },
     "metadata": {},
     "output_type": "display_data"
    }
   ],
   "source": [
    "import requests\n",
    "header = requests.head\n",
    "print(header)\n",
    "display(header)"
   ]
  },
  {
   "cell_type": "code",
   "execution_count": 8,
   "id": "7d2df2d8",
   "metadata": {},
   "outputs": [],
   "source": [
    "# Passo a passo\n",
    "\n",
    "# Passo 1 - Abrir o navegador\n",
    "\n",
    "from time import sleep\n",
    "from selenium import webdriver\n",
    "from selenium.webdriver.chrome.service import Service\n",
    "from selenium.webdriver.common.by import By\n",
    "from selenium.webdriver.chrome.options import Options\n",
    "from bs4 import BeautifulSoup\n",
    "\n",
    "selenium_service = Service('C:/Users/Carlos/anaconda3/chromedriver')\n",
    "# chrome_options = Options()\n",
    "chrome_options = webdriver.ChromeOptions()\n",
    "#chrome_options.add_argument(\"--user-agent=Mozilla/5.0 (Windows NT 10.0; Win64; x64) AppleWebKit/537.36 (KHTML, like Gecko) Chrome/97.0.4692.99 Safari/537.36\")\n",
    "chrome_options.add_argument('--user-agent=Mozilla/5.0 (Windows NT 10.0; Win64; x64) AppleWebKit/537.36 (KHTML, like Gecko) Chrome/114.0.0.0 Safari/537.36')\n",
    "chrome_options.add_argument('--disable-extensions')\n",
    "#chrome_options.add_argument('--headless') # Executar em modo headless (sem interface gráfica)\n",
    "navegador = webdriver.Chrome(service=selenium_service, options=chrome_options)\n",
    "# user_agent = navegador.execute_script(navegador)\n",
    "\n",
    "import warnings\n",
    "warnings.filterwarnings('ignore')\n",
    "\n",
    "username = 'rick.bamberg@gmail.com'\n",
    "password = 'eureka3234'\n",
    "\n",
    "# url = 'https://mail.google.com/mail/u/0/#inbox'\n",
    "url = 'https://mail.google.com/mail/u/0/#category/promotions'\n",
    "\n",
    "# navegador = webdriver.Chrome('C:/Users/Carlos/anaconda3/chromedriver')\n",
    "\n",
    "navegador.get(url)\n",
    "navegador.maximize_window()\n",
    "navegador.find_element(By.ID, 'identifierId').send_keys(username)\n",
    "sleep(2)\n",
    "navegador.find_element(By.ID, 'identifierNext').click()\n",
    "sleep(2)\n",
    "navegador.find_element(By.ID, 'next').click()\n",
    "\n"
   ]
  },
  {
   "cell_type": "code",
   "execution_count": 5,
   "id": "84025cbf",
   "metadata": {
    "collapsed": true
   },
   "outputs": [
    {
     "ename": "NoSuchWindowException",
     "evalue": "Message: no such window: target window already closed\nfrom unknown error: web view not found\n  (Session info: chrome=114.0.5735.134)\nStacktrace:\nBacktrace:\n\tGetHandleVerifier [0x00E9A813+48355]\n\t(No symbol) [0x00E2C4B1]\n\t(No symbol) [0x00D35358]\n\t(No symbol) [0x00D1D293]\n\t(No symbol) [0x00D7E37B]\n\t(No symbol) [0x00D8C473]\n\t(No symbol) [0x00D7A536]\n\t(No symbol) [0x00D582DC]\n\t(No symbol) [0x00D593DD]\n\tGetHandleVerifier [0x010FAABD+2539405]\n\tGetHandleVerifier [0x0113A78F+2800735]\n\tGetHandleVerifier [0x0113456C+2775612]\n\tGetHandleVerifier [0x00F251E0+616112]\n\t(No symbol) [0x00E35F8C]\n\t(No symbol) [0x00E32328]\n\t(No symbol) [0x00E3240B]\n\t(No symbol) [0x00E24FF7]\n\tBaseThreadInitThunk [0x76A700C9+25]\n\tRtlGetAppContainerNamedObjectPath [0x775C7B4E+286]\n\tRtlGetAppContainerNamedObjectPath [0x775C7B1E+238]\n",
     "output_type": "error",
     "traceback": [
      "\u001b[1;31m---------------------------------------------------------------------------\u001b[0m",
      "\u001b[1;31mNoSuchWindowException\u001b[0m                     Traceback (most recent call last)",
      "Cell \u001b[1;32mIn[5], line 3\u001b[0m\n\u001b[0;32m      1\u001b[0m \u001b[38;5;66;03m# Passo 3 - Entra no Gmail\u001b[39;00m\n\u001b[0;32m      2\u001b[0m link \u001b[38;5;241m=\u001b[39m \u001b[38;5;124m'\u001b[39m\u001b[38;5;124mhttps://mail.google.com/mail/u/0/#category/promotions\u001b[39m\u001b[38;5;124m'\u001b[39m\n\u001b[1;32m----> 3\u001b[0m \u001b[43mnavegador\u001b[49m\u001b[38;5;241;43m.\u001b[39;49m\u001b[43mget\u001b[49m\u001b[43m(\u001b[49m\u001b[43mlink\u001b[49m\u001b[43m)\u001b[49m\n\u001b[0;32m      5\u001b[0m \u001b[38;5;66;03m# Passo 4 - Exclui de 50 por 50 registros\u001b[39;00m\n\u001b[0;32m      6\u001b[0m \n\u001b[0;32m      7\u001b[0m \u001b[38;5;66;03m# Passo 5 - Atualizar na base de dados \u001b[39;00m\n\u001b[0;32m      9\u001b[0m \u001b[38;5;28;01mfor\u001b[39;00m linha \u001b[38;5;129;01min\u001b[39;00m tabela\u001b[38;5;241m.\u001b[39mindex:\n",
      "File \u001b[1;32m~\\anaconda3\\lib\\site-packages\\selenium\\webdriver\\remote\\webdriver.py:449\u001b[0m, in \u001b[0;36mWebDriver.get\u001b[1;34m(self, url)\u001b[0m\n\u001b[0;32m    447\u001b[0m \u001b[38;5;28;01mdef\u001b[39;00m \u001b[38;5;21mget\u001b[39m(\u001b[38;5;28mself\u001b[39m, url: \u001b[38;5;28mstr\u001b[39m) \u001b[38;5;241m-\u001b[39m\u001b[38;5;241m>\u001b[39m \u001b[38;5;28;01mNone\u001b[39;00m:\n\u001b[0;32m    448\u001b[0m     \u001b[38;5;124;03m\"\"\"Loads a web page in the current browser session.\"\"\"\u001b[39;00m\n\u001b[1;32m--> 449\u001b[0m     \u001b[38;5;28;43mself\u001b[39;49m\u001b[38;5;241;43m.\u001b[39;49m\u001b[43mexecute\u001b[49m\u001b[43m(\u001b[49m\u001b[43mCommand\u001b[49m\u001b[38;5;241;43m.\u001b[39;49m\u001b[43mGET\u001b[49m\u001b[43m,\u001b[49m\u001b[43m \u001b[49m\u001b[43m{\u001b[49m\u001b[38;5;124;43m\"\u001b[39;49m\u001b[38;5;124;43murl\u001b[39;49m\u001b[38;5;124;43m\"\u001b[39;49m\u001b[43m:\u001b[49m\u001b[43m \u001b[49m\u001b[43murl\u001b[49m\u001b[43m}\u001b[49m\u001b[43m)\u001b[49m\n",
      "File \u001b[1;32m~\\anaconda3\\lib\\site-packages\\selenium\\webdriver\\remote\\webdriver.py:440\u001b[0m, in \u001b[0;36mWebDriver.execute\u001b[1;34m(self, driver_command, params)\u001b[0m\n\u001b[0;32m    438\u001b[0m response \u001b[38;5;241m=\u001b[39m \u001b[38;5;28mself\u001b[39m\u001b[38;5;241m.\u001b[39mcommand_executor\u001b[38;5;241m.\u001b[39mexecute(driver_command, params)\n\u001b[0;32m    439\u001b[0m \u001b[38;5;28;01mif\u001b[39;00m response:\n\u001b[1;32m--> 440\u001b[0m     \u001b[38;5;28;43mself\u001b[39;49m\u001b[38;5;241;43m.\u001b[39;49m\u001b[43merror_handler\u001b[49m\u001b[38;5;241;43m.\u001b[39;49m\u001b[43mcheck_response\u001b[49m\u001b[43m(\u001b[49m\u001b[43mresponse\u001b[49m\u001b[43m)\u001b[49m\n\u001b[0;32m    441\u001b[0m     response[\u001b[38;5;124m\"\u001b[39m\u001b[38;5;124mvalue\u001b[39m\u001b[38;5;124m\"\u001b[39m] \u001b[38;5;241m=\u001b[39m \u001b[38;5;28mself\u001b[39m\u001b[38;5;241m.\u001b[39m_unwrap_value(response\u001b[38;5;241m.\u001b[39mget(\u001b[38;5;124m\"\u001b[39m\u001b[38;5;124mvalue\u001b[39m\u001b[38;5;124m\"\u001b[39m, \u001b[38;5;28;01mNone\u001b[39;00m))\n\u001b[0;32m    442\u001b[0m     \u001b[38;5;28;01mreturn\u001b[39;00m response\n",
      "File \u001b[1;32m~\\anaconda3\\lib\\site-packages\\selenium\\webdriver\\remote\\errorhandler.py:245\u001b[0m, in \u001b[0;36mErrorHandler.check_response\u001b[1;34m(self, response)\u001b[0m\n\u001b[0;32m    243\u001b[0m         alert_text \u001b[38;5;241m=\u001b[39m value[\u001b[38;5;124m\"\u001b[39m\u001b[38;5;124malert\u001b[39m\u001b[38;5;124m\"\u001b[39m]\u001b[38;5;241m.\u001b[39mget(\u001b[38;5;124m\"\u001b[39m\u001b[38;5;124mtext\u001b[39m\u001b[38;5;124m\"\u001b[39m)\n\u001b[0;32m    244\u001b[0m     \u001b[38;5;28;01mraise\u001b[39;00m exception_class(message, screen, stacktrace, alert_text)  \u001b[38;5;66;03m# type: ignore[call-arg]  # mypy is not smart enough here\u001b[39;00m\n\u001b[1;32m--> 245\u001b[0m \u001b[38;5;28;01mraise\u001b[39;00m exception_class(message, screen, stacktrace)\n",
      "\u001b[1;31mNoSuchWindowException\u001b[0m: Message: no such window: target window already closed\nfrom unknown error: web view not found\n  (Session info: chrome=114.0.5735.134)\nStacktrace:\nBacktrace:\n\tGetHandleVerifier [0x00E9A813+48355]\n\t(No symbol) [0x00E2C4B1]\n\t(No symbol) [0x00D35358]\n\t(No symbol) [0x00D1D293]\n\t(No symbol) [0x00D7E37B]\n\t(No symbol) [0x00D8C473]\n\t(No symbol) [0x00D7A536]\n\t(No symbol) [0x00D582DC]\n\t(No symbol) [0x00D593DD]\n\tGetHandleVerifier [0x010FAABD+2539405]\n\tGetHandleVerifier [0x0113A78F+2800735]\n\tGetHandleVerifier [0x0113456C+2775612]\n\tGetHandleVerifier [0x00F251E0+616112]\n\t(No symbol) [0x00E35F8C]\n\t(No symbol) [0x00E32328]\n\t(No symbol) [0x00E3240B]\n\t(No symbol) [0x00E24FF7]\n\tBaseThreadInitThunk [0x76A700C9+25]\n\tRtlGetAppContainerNamedObjectPath [0x775C7B4E+286]\n\tRtlGetAppContainerNamedObjectPath [0x775C7B1E+238]\n"
     ]
    }
   ],
   "source": [
    "# Passo 3 - Entra no Gmail\n",
    "link = 'https://mail.google.com/mail/u/0/#category/promotions'\n",
    "navegador.get(link)\n",
    "\n",
    "# Passo 4 - Exclui de 50 por 50 registros\n",
    "\n",
    "# Passo 5 - Atualizar na base de dados \n",
    "\n",
    "for linha in tabela.index:\n",
    "    produto = tabela.loc[linha, 'Produto']\n",
    "    link = f'https://www.melhorcambio.com/{produto}-hoje'\n",
    "    link = link.replace('ó', 'o').replace('á', 'a').replace('ã', 'a').replace('ç', 'c').replace('ú', 'u').replace('é', 'e')\n",
    "    print(link)\n",
    "    navegador.get(link)\n",
    "\n",
    "    # Pega a cotacao do produto\n",
    "    cotacao = navegador.find_element('xpath', '//*[@id=\"comercial\"]').get_attribute('value')\n",
    "    cotacao = cotacao.replace('.', '').replace(',', '.')\n",
    "    cotacal = float(cotacao)\n",
    "    print(cotacao)\n",
    "\n",
    "    # Preencher o preco do milho na base de dados\n",
    "    tabela.loc[linha, 'Preço Atual'] = cotacao\n",
    "    \n",
    "display(tabela)"
   ]
  },
  {
   "cell_type": "code",
   "execution_count": null,
   "id": "8044b30c",
   "metadata": {},
   "outputs": [],
   "source": []
  }
 ],
 "metadata": {
  "kernelspec": {
   "display_name": "Python 3 (ipykernel)",
   "language": "python",
   "name": "python3"
  },
  "language_info": {
   "codemirror_mode": {
    "name": "ipython",
    "version": 3
   },
   "file_extension": ".py",
   "mimetype": "text/x-python",
   "name": "python",
   "nbconvert_exporter": "python",
   "pygments_lexer": "ipython3",
   "version": "3.10.9"
  }
 },
 "nbformat": 4,
 "nbformat_minor": 5
}
