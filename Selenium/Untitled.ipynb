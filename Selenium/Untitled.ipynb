{
 "cells": [
  {
   "cell_type": "code",
   "execution_count": null,
   "id": "8dced745",
   "metadata": {},
   "outputs": [],
   "source": [
    "# Importando Bibliotecas\n",
    "import pandas as pd\n",
    "# Abrir o gmail\n",
    "import pyautogui\n",
    "#import timelogin\n",
    "from time import sleep\n"
   ]
  },
  {
   "cell_type": "code",
   "execution_count": null,
   "id": "ea92f8e5",
   "metadata": {},
   "outputs": [],
   "source": [
    "# Passo 2 - Calcular os indicadores\n",
    "\n",
    "# Importar a base de dados \n",
    "tabela = pd.read_csv(\"compras.csv\", sep=\";\")\n",
    "display(tabela)\n",
    "\n",
    "# Calculo dos indicadores\n",
    "# Total gasto -> Somar total gasto\n",
    "total_gasto = tabela[\"ValorFinal\"].sum()\n",
    "# Quantidade -> Somar Quantidade\n",
    "quantidade = tabela[\"Quantidade\"].sum()\n",
    "# Preço medio -> Somar preço medio\n",
    "preco_medio = total_gasto / quantidade\n",
    "\n",
    "print(total_gasto)\n",
    "print(quantidade)\n",
    "print(preco_medio)"
   ]
  }
 ],
 "metadata": {
  "kernelspec": {
   "display_name": "Python 3 (ipykernel)",
   "language": "python",
   "name": "python3"
  },
  "language_info": {
   "codemirror_mode": {
    "name": "ipython",
    "version": 3
   },
   "file_extension": ".py",
   "mimetype": "text/x-python",
   "name": "python",
   "nbconvert_exporter": "python",
   "pygments_lexer": "ipython3",
   "version": "3.10.9"
  }
 },
 "nbformat": 4,
 "nbformat_minor": 5
}
