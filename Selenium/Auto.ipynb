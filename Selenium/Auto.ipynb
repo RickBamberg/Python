{
 "cells": [
  {
   "cell_type": "code",
   "execution_count": 1,
   "id": "b511ce45",
   "metadata": {
    "collapsed": true
   },
   "outputs": [
    {
     "name": "stderr",
     "output_type": "stream",
     "text": [
      "ERROR: Could not find a version that satisfies the requirement time (from versions: none)\n",
      "ERROR: No matching distribution found for time\n"
     ]
    }
   ],
   "source": [
    "#!pip install pyautogui\n",
    "#!pip install pyperclip"
   ]
  },
  {
   "cell_type": "code",
   "execution_count": 2,
   "id": "7d2df2d8",
   "metadata": {},
   "outputs": [],
   "source": [
    "# Automaçãologin\n",
    "import pyautogui\n",
    "import time\n",
    "from time import sleep\n",
    "\n",
    "#pyautogui.press(\"win\")senha\n",
    "#pyautogui.write(\"chrome\")\n",
    "#pyautogui.press(\"enter\")login\n",
    "\n",
    "# Passo 1 - Chamr a pagina\n",
    "pyautogui.hotkey(\"ctrl\", \"t\")\n",
    "pyautogui.write(\"http://pages.hashtagtreisenhanamentos.com/aula1-intensivao-sistema\")\n",
    "pyautogui.press(\"enter\")\n",
    "\n",
    "time.sleep(10)\n",
    "\n",
    "# Passo 2 - Logar no sistema\n",
    "#pyautogui.click(x=558, y=344)\n",
    "pyautogui.click(x=685, y=376)\n",
    "pyautogui.write(\"login\")\n",
    "pyautogui.click(x=589, y=424)\n",
    "pyautogui.write(\"senha\")\n",
    "pyautogui.click(x=665, y=492)\n",
    "\n",
    "time.sleep(10)\n",
    "\n",
    "# Passo 3 - Baixar o arquivo\n",
    "pyautogui.click(x=402, y=547)\n",
    "time.sleep(10)\n",
    "pyautogui.click(x=507, y=170)\n"
   ]
  },
  {
   "cell_type": "markdown",
   "id": "d14fb8fd",
   "metadata": {},
   "source": []
  },
  {
   "cell_type": "markdown",
   "id": "9b776665",
   "metadata": {},
   "source": []
  },
  {
   "cell_type": "markdown",
   "id": "840c9485",
   "metadata": {},
   "source": []
  },
  {
   "cell_type": "code",
   "execution_count": null,
   "id": "857e3d06",
   "metadata": {},
   "outputs": [],
   "source": []
  },
  {
   "cell_type": "raw",
   "id": "ee0eae50",
   "metadata": {},
   "source": [
    "# Passo 4 - Calcular os indicadores\n",
    "import pandas as pd\n",
    "\n",
    "# Importar a base de dados \n",
    "tabela = pd.read_csv(\"compras.csv\", sep=\";\")\n",
    "display(tabela)\n",
    "\n",
    "# Calculo dos indicadores\n",
    "# Total gasto -> Somar total gasto\n",
    "total_gasto = tabela[\"ValorFinal\"].sum()\n",
    "# Quantidade -> Somar Quantidade\n",
    "quantidade = tabela[\"Quantidade\"].sum()\n",
    "# Preço medio -> Somar preço medio\n",
    "preco_medio = total_gasto / quantidade\n",
    "\n",
    "print(total_gasto)\n",
    "print(quantidade)\n",
    "print(preco_medio)\n"
   ]
  },
  {
   "cell_type": "code",
   "execution_count": null,
   "id": "d59d0374",
   "metadata": {},
   "outputs": [],
   "source": [
    "# Passo 5 - Enviar o e-mail para a diretoria / Chefe\n",
    "\n",
    "# Abrir o gmail\n",
    "import pyautogui\n",
    "import time\n",
    "from time import sleep\n",
    "\n",
    "import pyperclip\n",
    "pyautogui.hotkey(\"ctrl\", \"t\")\n",
    "pyautogui.write(\"https://mail.google.com/mail/u/0/#inbox\")\n",
    "pyautogui.press(\"enter\")\n",
    "\n",
    "sleep(5)\n",
    "pyautogui.click(x=58, y=200)\n",
    "sleep(5)\n",
    "\n",
    "# Escrevendo o conteudo do Email\n",
    "pyautogui.write(\"rick.bamberg@gmail.com\")\n",
    "pyautogui.press(\"tab\")\n",
    "pyautogui.press(\"tab\")\n",
    "pyautogui.write(\"Teste Python\")\n",
    "pyautogui.press(\"tab\")\n",
    "\n",
    "texto = f\"\"\"\n",
    "\n",
    "Prezados.\n",
    "\n",
    "Segue o relatório de compra\n",
    "\n",
    "Total gasto: R$ {total_gasto:,.2f}\n",
    "Quantidade de produtos: {quantidade:,}\n",
    "Preço médio: R$ {preco_medio:,.2f}\n",
    "\n",
    "Qualquer dúvida é só falar\n",
    "att.\n",
    "Rick\n",
    "\"\"\"\n",
    "pyperclip.copy(texto)\n",
    "pyautogui.hotkey(\"ctrl\", \"v\")\n",
    "pyautogui.hotkey(\"ctrl\", \"enter\")\n"
   ]
  },
  {
   "cell_type": "code",
   "execution_count": 9,
   "id": "ce95945a",
   "metadata": {},
   "outputs": [],
   "source": [
    "# Escrever Email\n",
    "\n",
    "# pyautogui.click(x=79, y=168)\n",
    "pyautogui.click(x=58, y=200)\n",
    "sleep(10)\n",
    "\n",
    "# Escrevendo o conteudo do Email\n",
    "pyautogui.write(\"rick.bamberg@gmail.com\")\n",
    "pyautogui.press(\"tab\")\n",
    "pyautogui.press(\"tab\")\n",
    "pyautogui.write(\"Teste Python\")\n",
    "pyautogui.press(\"tab\")\n",
    "\n",
    "texto = f\"\"\"\n",
    "\n",
    "Prezados.\n",
    "\n",
    "Segue o relatório de compra\n",
    "\n",
    "Total gasto: R$ {total_gasto:,.2f}\n",
    "Quantidade de produtos: {quantidade:,}\n",
    "Preço médio: R$ {preco_medio:,.2f}\n",
    "\n",
    "Qualquer dúvida é só falar\n",
    "att.\n",
    "Rick\n",
    "\"\"\"\n",
    "pyperclip.copy(texto)\n",
    "pyautogui.hotkey(\"ctrl\", \"v\")\n",
    "pyautogui.hotkey(\"ctrl\", \"enter\")\n",
    "\n"
   ]
  },
  {
   "cell_type": "code",
   "execution_count": null,
   "id": "8e2725e5",
   "metadata": {},
   "outputs": [],
   "source": []
  },
  {
   "cell_type": "code",
   "execution_count": 5,
   "id": "edfe1f92",
   "metadata": {},
   "outputs": [
    {
     "ename": "SyntaxError",
     "evalue": "invalid syntax (45826220.py, line 1)",
     "output_type": "error",
     "traceback": [
      "\u001b[1;36m  Cell \u001b[1;32mIn[5], line 1\u001b[1;36m\u001b[0m\n\u001b[1;33m    Prezados.\u001b[0m\n\u001b[1;37m             ^\u001b[0m\n\u001b[1;31mSyntaxError\u001b[0m\u001b[1;31m:\u001b[0m invalid syntax\n"
     ]
    }
   ],
   "source": [
    "\n",
    "\n",
    "Prezados.\n",
    "\n",
    "Segue o relatório de compra\n",
    "\n",
    "Total gasto: R$ 7,254,196.58\n",
    "Quantidade de produtos: 9,715\n",
    "Preço médio: R$ 746.70\n",
    "\n",
    "Qualquer dúvida é só falar\n",
    "att.\n",
    "Rick\n"
   ]
  }
 ],
 "metadata": {
  "kernelspec": {
   "display_name": "Python 3 (ipykernel)",
   "language": "python",
   "name": "python3"
  },
  "language_info": {
   "codemirror_mode": {
    "name": "ipython",
    "version": 3
   },
   "file_extension": ".py",
   "mimetype": "text/x-python",
   "name": "python",
   "nbconvert_exporter": "python",
   "pygments_lexer": "ipython3",
   "version": "3.10.9"
  }
 },
 "nbformat": 4,
 "nbformat_minor": 5
}
