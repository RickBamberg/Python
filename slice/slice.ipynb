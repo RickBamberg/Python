{
 "cells": [
  {
   "cell_type": "markdown",
   "id": "4f352e44",
   "metadata": {},
   "source": [
    "## NERD DOS DADOS - SLICES COM PYTHON"
   ]
  },
  {
   "cell_type": "code",
   "execution_count": null,
   "id": "10112c17",
   "metadata": {},
   "outputs": [],
   "source": [
    "# A primeira coisa que temos que fazer é importar os pacotes que iremos utilizar.\n",
    "# Obs.: Pacotes do Python são conjuntos de funcionalidades disponíveis da ferramenta.\n",
    "\n",
    "#Pandas: Possui inúmeras funções e comandos para importar arquivos, analisar dados, tratar dados, etc.\n",
    "import pandas as pd\n",
    "\n",
    "#Comando para exibir todas colunas do arquivo\n",
    "pd.set_option('display.max_columns', None)\n",
    "pd.set_option('display.max_rows', None)"
   ]
  },
  {
   "cell_type": "markdown",
   "id": "87e5a74e",
   "metadata": {},
   "source": [
    "## Importação dos dados, Analise Exploratória e Tratamento de Dados"
   ]
  },
  {
   "cell_type": "code",
   "execution_count": null,
   "id": "576aab63",
   "metadata": {},
   "outputs": [],
   "source": [
    "#Comando utilizado para carregar o arquivo e armazena-lo como um DataFrame do Pandas\n",
    "#Um DataFrame do Pandas é como se fosse uma planilha do Excel, onde podemos tratar linhas e colunas.\n",
    "df_dados = pd.read_excel(\"dados_credito.xlsx\")"
   ]
  },
  {
   "cell_type": "code",
   "execution_count": null,
   "id": "1c1942ca",
   "metadata": {},
   "outputs": [],
   "source": [
    "#Comando utilizado para verificar a quantidade de linhas e colunas do arquivo\n",
    "#Colunas também são chamadas de variáveis.\n",
    "df_dados.shape"
   ]
  },
  {
   "cell_type": "code",
   "execution_count": null,
   "id": "6f4af795",
   "metadata": {},
   "outputs": [],
   "source": [
    "#Comando utilizado para verificar as linhas iniciais do DataFrame\n",
    "df_dados.head()"
   ]
  },
  {
   "cell_type": "code",
   "execution_count": null,
   "id": "26c75f53",
   "metadata": {},
   "outputs": [],
   "source": [
    "# Todas as colunas e 3 linhas\n",
    "df_dados[0:3]"
   ]
  },
  {
   "cell_type": "code",
   "execution_count": null,
   "id": "778696d0",
   "metadata": {},
   "outputs": [],
   "source": [
    "# Todas colunas a partir da linha 1 até a linha 3\n",
    "df_dados[1:3]"
   ]
  },
  {
   "cell_type": "code",
   "execution_count": null,
   "id": "9316c929",
   "metadata": {},
   "outputs": [],
   "source": [
    "# Slice pelo nome da coluna\n",
    "# Da coluna UF até a coluna QT_Filhos e todos as linhas\n",
    "df_dados.loc[:,'UF':'QT_FILHOS']"
   ]
  },
  {
   "cell_type": "code",
   "execution_count": null,
   "id": "61d0a856",
   "metadata": {},
   "outputs": [],
   "source": [
    "# Slice pelo nome da coluna\n",
    "# Da coluna UF até a coluna QT_Filhos e somente até a linha de indice 10\n",
    "df_dados.loc[:10,'UF':'QT_FILHOS']"
   ]
  },
  {
   "cell_type": "code",
   "execution_count": null,
   "id": "dadb9f93",
   "metadata": {},
   "outputs": [],
   "source": [
    "# Slice pelo nome da coluna\n",
    "# Da coluna UF até a coluna QT_Filhos e somente até a linha de indice 4 até 10\n",
    "df_dados.loc[4:10,'UF':'QT_FILHOS']"
   ]
  },
  {
   "cell_type": "code",
   "execution_count": null,
   "id": "ef5c331f",
   "metadata": {},
   "outputs": [],
   "source": []
  },
  {
   "cell_type": "code",
   "execution_count": null,
   "id": "e05820c6",
   "metadata": {},
   "outputs": [],
   "source": [
    "df_dados.info()"
   ]
  },
  {
   "cell_type": "code",
   "execution_count": null,
   "id": "35256f34",
   "metadata": {},
   "outputs": [],
   "source": [
    "# Slice pelo indice\n",
    "# Da coluna UF até a coluna QT_Filhos e todos as linhas\n",
    "df_dados.iloc[:,1:7]"
   ]
  },
  {
   "cell_type": "code",
   "execution_count": null,
   "id": "998c366a",
   "metadata": {},
   "outputs": [],
   "source": [
    "# Da coluna UF até a coluna QT_Filhos e somente até a linha de indice 4 até 10\n",
    "df_dados.iloc[4:11,1:6]"
   ]
  },
  {
   "cell_type": "code",
   "execution_count": null,
   "id": "63fb791e",
   "metadata": {},
   "outputs": [],
   "source": [
    "# Pegando a partir da coluna de indice 2\n",
    "df_dados.iloc[:,2:]"
   ]
  },
  {
   "cell_type": "code",
   "execution_count": null,
   "id": "fc992a43",
   "metadata": {},
   "outputs": [],
   "source": []
  }
 ],
 "metadata": {
  "kernelspec": {
   "display_name": "Python 3 (ipykernel)",
   "language": "python",
   "name": "python3"
  },
  "language_info": {
   "codemirror_mode": {
    "name": "ipython",
    "version": 3
   },
   "file_extension": ".py",
   "mimetype": "text/x-python",
   "name": "python",
   "nbconvert_exporter": "python",
   "pygments_lexer": "ipython3",
   "version": "3.9.12"
  }
 },
 "nbformat": 4,
 "nbformat_minor": 5
}
