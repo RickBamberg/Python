{
 "cells": [
  {
   "cell_type": "markdown",
   "id": "63d8f620",
   "metadata": {},
   "source": [
    "### Função MAP"
   ]
  },
  {
   "cell_type": "markdown",
   "id": "934c9356",
   "metadata": {},
   "source": [
    "<p>A função map() faz basicamente o mapeamento de um valor para outro, quase como um objeto do tipo dicionário em Python."
   ]
  },
  {
   "cell_type": "code",
   "execution_count": null,
   "id": "506b8d06",
   "metadata": {},
   "outputs": [],
   "source": [
    "# Criando duas funções\n",
    "\n",
    "# Função 1 - Recebe uma temperatura como parâmetro e retorna a temperatura em Fahrenheit\n",
    "def fahrenheit(T):\n",
    "    return ((float(9)/5)*T + 32)\n",
    "\n",
    "# Função 2 - Recebe uma temperatura como parâmetro e retorna a temperatura em Celsius\n",
    "def celsius(T):\n",
    "    return (float(5)/9)*(T-32)"
   ]
  },
  {
   "cell_type": "code",
   "execution_count": null,
   "id": "e1c27668",
   "metadata": {},
   "outputs": [],
   "source": [
    "# Criando uma lista\n",
    "temperaturas = [0, 22.5, 40, 100]"
   ]
  },
  {
   "cell_type": "code",
   "execution_count": null,
   "id": "05b5df5d",
   "metadata": {},
   "outputs": [],
   "source": [
    "# Função map() reotrnando a lista de temperaturas convertidas em Fahrenheit\n",
    "list(map(fahrenheit, temperaturas))"
   ]
  },
  {
   "cell_type": "code",
   "execution_count": null,
   "id": "3c9a2d04",
   "metadata": {},
   "outputs": [],
   "source": [
    "# Usando um loop for para imprimir o resultado da função map()\n",
    "for temp in map(fahrenheit, temperaturas):\n",
    "    print(temp)"
   ]
  },
  {
   "cell_type": "code",
   "execution_count": null,
   "id": "029c0d30",
   "metadata": {},
   "outputs": [],
   "source": [
    "# Convertendo para Celsius\n",
    "map(celsius, temperaturas)"
   ]
  },
  {
   "cell_type": "code",
   "execution_count": null,
   "id": "092160c0",
   "metadata": {},
   "outputs": [],
   "source": [
    "list(map(celsius, temperaturas))"
   ]
  },
  {
   "cell_type": "markdown",
   "id": "d1af130e",
   "metadata": {},
   "source": [
    "### Função REDUCE"
   ]
  },
  {
   "cell_type": "markdown",
   "id": "c19d97fa",
   "metadata": {},
   "source": [
    "<p>A função reduce() aplica uma função a uma sequência de elementos, até reduzir a sequência a um único elemento<br>\n",
    "    Suponhamos que você tem uma lista minha_lista, que só contém números, e que você queira o resultado da multiplicação entre todos esses números. Um dos jeitos de fazer isso é com um for:"
   ]
  },
  {
   "cell_type": "code",
   "execution_count": null,
   "id": "959fdb6a",
   "metadata": {},
   "outputs": [],
   "source": [
    "# Queremos 2 * 4 * 5 * 2, que é igual a 80\n",
    "# Isso funciona, mas uma outra forma de fazer seria utilizando a função REDUCE\n",
    "minha_lista = [2, 4, 5, 2]\n",
    "\n",
    "produto_total = 1\n",
    "for numero in minha_lista:\n",
    "     produto_total *= numero\n",
    "\n",
    "print(produto_total)  # 80"
   ]
  },
  {
   "cell_type": "code",
   "execution_count": null,
   "id": "015ed84f",
   "metadata": {},
   "outputs": [],
   "source": [
    "# Usando a função REDUCE\n",
    "from functools import reduce\n",
    "\n",
    "minha_lista = [2, 4, 5, 2]\n",
    "\n",
    "def multiplicar(x, y):\n",
    "    return x * y\n",
    "\n",
    "produto_total = reduce(multiplicar, minha_lista)\n",
    "print(produto_total)  # 80"
   ]
  },
  {
   "cell_type": "markdown",
   "id": "dd238a76",
   "metadata": {},
   "source": [
    "### Funções LAMBDA"
   ]
  },
  {
   "cell_type": "markdown",
   "id": "a0da9c54",
   "metadata": {},
   "source": [
    "<p> Uma função LAMBDA nada mais é do que uma função definida em uma só expressão.\n",
    "    Funções lambda são funções anônimas que não precisam ser definidas antes de serem usadas. São também chamadas funções inline e ajudam a manter seu código mais organizado."
   ]
  },
  {
   "cell_type": "code",
   "execution_count": null,
   "id": "2c6c5812",
   "metadata": {},
   "outputs": [],
   "source": [
    "# Definindo uma função - 3 linhas de código\n",
    "def potencia(num):\n",
    "    result = num**2\n",
    "    return result"
   ]
  },
  {
   "cell_type": "code",
   "execution_count": null,
   "id": "05e9d20a",
   "metadata": {},
   "outputs": [],
   "source": [
    "# Definindo uma função - 1 linha de código\n",
    "def potencia(num): return num**2"
   ]
  },
  {
   "cell_type": "code",
   "execution_count": null,
   "id": "56f19149",
   "metadata": {},
   "outputs": [],
   "source": [
    "addNum = lambda x,y : x+y"
   ]
  },
  {
   "cell_type": "code",
   "execution_count": null,
   "id": "9d65dd31",
   "metadata": {},
   "outputs": [],
   "source": [
    "addNum(2,3)"
   ]
  },
  {
   "cell_type": "markdown",
   "id": "f9813c7f",
   "metadata": {},
   "source": [
    "### Função FILTER "
   ]
  },
  {
   "cell_type": "markdown",
   "id": "9e9a32d4",
   "metadata": {},
   "source": [
    "<p>A função filter() permite filtrar elementos de uma lista. Aplicamos uma função que retorna valores booleanos (True ou False). Retornamos os valores onde a expressão é True e filtramos os valores onde a expressão retorna False.<br>    \n",
    "    A função integrada filter() do Python pode ser usada para criar um novo iterador a partir de um iterável existente (como uma list a ou um dicionário) que irá filtrar de forma eficiente os elementos usando uma função que fornecemos"
   ]
  },
  {
   "cell_type": "code",
   "execution_count": null,
   "id": "49e44a94",
   "metadata": {},
   "outputs": [],
   "source": [
    "# Criando uma função\n",
    "def verificaPar(num):\n",
    "    if num % 2 == 0:\n",
    "        return True\n",
    "    else:\n",
    "        return False"
   ]
  },
  {
   "cell_type": "code",
   "execution_count": null,
   "id": "2c3e9d4c",
   "metadata": {},
   "outputs": [],
   "source": [
    "# Chamando a função e passando um número como parâmetro. Retornará \n",
    "# Falso de for ímpar e True se for par.\n",
    "verificaPar(35)"
   ]
  },
  {
   "cell_type": "code",
   "execution_count": null,
   "id": "d6c39626",
   "metadata": {},
   "outputs": [],
   "source": [
    "lista = [0, 1, 2, 3, 4, 5, 6, 7, 8, 9, 10, 11, 12, 13, 14, 15, 16, 17, 18]"
   ]
  },
  {
   "cell_type": "code",
   "execution_count": null,
   "id": "c2117403",
   "metadata": {},
   "outputs": [],
   "source": [
    "lista"
   ]
  },
  {
   "cell_type": "code",
   "execution_count": null,
   "id": "beabc71b",
   "metadata": {},
   "outputs": [],
   "source": [
    "list(filter(verificaPar, lista))"
   ]
  },
  {
   "cell_type": "markdown",
   "id": "1e8e3316",
   "metadata": {},
   "source": [
    "### Função ENUMERATE"
   ]
  },
  {
   "cell_type": "markdown",
   "id": "017445f3",
   "metadata": {},
   "source": [
    "<p> A função enumerate() retorna uma tupla de dois elementos a cada iteração: um número sequencial e um item da sequência correspondente."
   ]
  },
  {
   "cell_type": "code",
   "execution_count": null,
   "id": "e1d3c0d4",
   "metadata": {},
   "outputs": [],
   "source": [
    "lista = ['Marketing', 'Tecnologia', 'Business']"
   ]
  },
  {
   "cell_type": "code",
   "execution_count": null,
   "id": "49b413a2",
   "metadata": {},
   "outputs": [],
   "source": [
    "for i, item in enumerate(lista):\n",
    "    print(i, item)"
   ]
  },
  {
   "cell_type": "code",
   "execution_count": null,
   "id": "609346e2",
   "metadata": {},
   "outputs": [],
   "source": [
    "for i, item in enumerate('Isso é uma string'):\n",
    "    print(i, item)"
   ]
  },
  {
   "cell_type": "code",
   "execution_count": null,
   "id": "0f0616f9",
   "metadata": {},
   "outputs": [],
   "source": []
  },
  {
   "cell_type": "code",
   "execution_count": null,
   "id": "fe4aed19",
   "metadata": {},
   "outputs": [],
   "source": []
  },
  {
   "cell_type": "code",
   "execution_count": null,
   "id": "2a4f1b51",
   "metadata": {},
   "outputs": [],
   "source": []
  },
  {
   "cell_type": "code",
   "execution_count": null,
   "id": "ec7368d6",
   "metadata": {},
   "outputs": [],
   "source": []
  },
  {
   "cell_type": "code",
   "execution_count": null,
   "id": "6f5d9dbf",
   "metadata": {},
   "outputs": [],
   "source": []
  },
  {
   "cell_type": "code",
   "execution_count": null,
   "id": "d1130dac",
   "metadata": {},
   "outputs": [],
   "source": []
  },
  {
   "cell_type": "code",
   "execution_count": null,
   "id": "59126ec5",
   "metadata": {},
   "outputs": [],
   "source": []
  },
  {
   "cell_type": "markdown",
   "id": "f2fd4658",
   "metadata": {},
   "source": [
    "### Função APPLY"
   ]
  },
  {
   "cell_type": "markdown",
   "id": "6aba8f36",
   "metadata": {},
   "source": [
    "<p> A função APPLY é utilizada para aplicar funções dentro de matrizes, porém de uma forma muito mais rápido e com menos linhas de códigos como a utilização do Loop For"
   ]
  },
  {
   "cell_type": "code",
   "execution_count": null,
   "id": "9be25d89",
   "metadata": {},
   "outputs": [],
   "source": [
    "# Importando os pacotes necessários para serem utilizados\n",
    "from datetime import date\n",
    "import time\n",
    "import socket\n",
    "import pandas as pd\n",
    "import pymssql as sql\n",
    "import warnings\n",
    "warnings.filterwarnings(\"ignore\")"
   ]
  },
  {
   "cell_type": "code",
   "execution_count": null,
   "id": "312fc73b",
   "metadata": {},
   "outputs": [],
   "source": [
    "# Cria a conexão com o SQL Server passando os parametros (Servidor, Usuário, Senha, Database)\n",
    "conexao = sql.connect('localhost', 'usuario_python', '123456', 'SISTEMA')\n",
    "\n",
    "# Chama a consulta ao banco de dados passando os parametros da conexão criada\n",
    "df = pd.read_sql_query('select * from CLIENTES', conexao)\n",
    "\n",
    "# Fecha conexão com banco de dados\n",
    "conexao.close()"
   ]
  },
  {
   "cell_type": "code",
   "execution_count": null,
   "id": "f70d589e",
   "metadata": {},
   "outputs": [],
   "source": [
    "df.head()"
   ]
  },
  {
   "cell_type": "code",
   "execution_count": null,
   "id": "dd94017b",
   "metadata": {},
   "outputs": [],
   "source": [
    "df.shape"
   ]
  },
  {
   "cell_type": "code",
   "execution_count": null,
   "id": "a72b7b60",
   "metadata": {},
   "outputs": [],
   "source": [
    "df.info()"
   ]
  },
  {
   "cell_type": "code",
   "execution_count": null,
   "id": "d9129834",
   "metadata": {},
   "outputs": [],
   "source": [
    "# Criação da função para calcular a idade com LOOP FOR\n",
    "def calcular_idade_1(d1, d2):\n",
    "    data1 = min(d1, d2)\n",
    "    data2 = max(d1, d2)    \n",
    "    return (data2.year - data1.year)"
   ]
  },
  {
   "cell_type": "code",
   "execution_count": null,
   "id": "acdd4e61",
   "metadata": {},
   "outputs": [],
   "source": [
    "# Execução do processamento utilizando método Loop For\n",
    "inicio = time.time()\n",
    "for idx, row in df.iterrows():\n",
    "    \n",
    "    idade = calcular_idade_1(pd.to_datetime(date.today()), pd.to_datetime(row.DATA_NASCIMENTO))    \n",
    "    df.at[idx, 'IDADE_COM_LOOP_FOR'] = idade\n",
    "\n",
    "    \n",
    "final = time.time()    \n",
    "\n",
    "print('Tempo de Processamento:', int(final - inicio),'segundos') "
   ]
  },
  {
   "cell_type": "code",
   "execution_count": null,
   "id": "2089dd10",
   "metadata": {},
   "outputs": [],
   "source": [
    "df.head()"
   ]
  },
  {
   "cell_type": "code",
   "execution_count": null,
   "id": "8526e117",
   "metadata": {},
   "outputs": [],
   "source": [
    "# Cria função para calcular a idade com o APPLY\n",
    "def calcular_idade_2(row):    \n",
    "    return (date.today().year - row['DATA_NASCIMENTO'].year)"
   ]
  },
  {
   "cell_type": "code",
   "execution_count": null,
   "id": "acd757cf",
   "metadata": {},
   "outputs": [],
   "source": [
    "# Execução do processamento utilizando método Apply\n",
    "inicio = time.time()\n",
    "df['IDADE_COM_FUNCAO_APPLY'] = df.apply(calcular_idade_2, axis=1)\n",
    "final = time.time()\n",
    "\n",
    "\n",
    "# Exibe o tempo de processamento\n",
    "print('Tempo de Processamento:', int(final - inicio),'segundos') "
   ]
  },
  {
   "cell_type": "code",
   "execution_count": null,
   "id": "dc392a55",
   "metadata": {},
   "outputs": [],
   "source": []
  }
 ],
 "metadata": {
  "kernelspec": {
   "display_name": "Python 3 (ipykernel)",
   "language": "python",
   "name": "python3"
  },
  "language_info": {
   "codemirror_mode": {
    "name": "ipython",
    "version": 3
   },
   "file_extension": ".py",
   "mimetype": "text/x-python",
   "name": "python",
   "nbconvert_exporter": "python",
   "pygments_lexer": "ipython3",
   "version": "3.12.4"
  }
 },
 "nbformat": 4,
 "nbformat_minor": 5
}
