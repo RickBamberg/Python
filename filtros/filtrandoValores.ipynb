{
 "cells": [
  {
   "cell_type": "markdown",
   "id": "0e878b6a",
   "metadata": {},
   "source": [
    "## NERD DOS DADOS - Utilizando Filtros e Criando Categorias"
   ]
  },
  {
   "cell_type": "code",
   "execution_count": 1,
   "id": "d27e30b9",
   "metadata": {},
   "outputs": [],
   "source": [
    "# Importando os pacotes que serão utilizados\n",
    "import pandas as pd\n",
    "import seaborn as sns\n",
    "import matplotlib.pyplot as plt"
   ]
  },
  {
   "cell_type": "code",
   "execution_count": 2,
   "id": "b4230e3e",
   "metadata": {},
   "outputs": [],
   "source": [
    "# Carregando o arquivo de dados\n",
    "df_original = pd.read_csv(\"dados.csv\")"
   ]
  },
  {
   "cell_type": "code",
   "execution_count": 3,
   "id": "f27a1882",
   "metadata": {},
   "outputs": [
    {
     "data": {
      "text/html": [
       "<div>\n",
       "<style scoped>\n",
       "    .dataframe tbody tr th:only-of-type {\n",
       "        vertical-align: middle;\n",
       "    }\n",
       "\n",
       "    .dataframe tbody tr th {\n",
       "        vertical-align: top;\n",
       "    }\n",
       "\n",
       "    .dataframe thead th {\n",
       "        text-align: right;\n",
       "    }\n",
       "</style>\n",
       "<table border=\"1\" class=\"dataframe\">\n",
       "  <thead>\n",
       "    <tr style=\"text-align: right;\">\n",
       "      <th></th>\n",
       "      <th>CODIGO_CLIENTE</th>\n",
       "      <th>RENDA</th>\n",
       "      <th>UF</th>\n",
       "      <th>QT_DIAS_ATRASO</th>\n",
       "    </tr>\n",
       "  </thead>\n",
       "  <tbody>\n",
       "    <tr>\n",
       "      <th>0</th>\n",
       "      <td>5695</td>\n",
       "      <td>1800.0</td>\n",
       "      <td>MT</td>\n",
       "      <td>202</td>\n",
       "    </tr>\n",
       "    <tr>\n",
       "      <th>1</th>\n",
       "      <td>5705</td>\n",
       "      <td>3000.0</td>\n",
       "      <td>GO</td>\n",
       "      <td>531</td>\n",
       "    </tr>\n",
       "    <tr>\n",
       "      <th>2</th>\n",
       "      <td>5711</td>\n",
       "      <td>3600.0</td>\n",
       "      <td>MT</td>\n",
       "      <td>191</td>\n",
       "    </tr>\n",
       "    <tr>\n",
       "      <th>3</th>\n",
       "      <td>5727</td>\n",
       "      <td>2500.0</td>\n",
       "      <td>GO</td>\n",
       "      <td>113</td>\n",
       "    </tr>\n",
       "    <tr>\n",
       "      <th>4</th>\n",
       "      <td>5994</td>\n",
       "      <td>2000.0</td>\n",
       "      <td>BA</td>\n",
       "      <td>2220</td>\n",
       "    </tr>\n",
       "  </tbody>\n",
       "</table>\n",
       "</div>"
      ],
      "text/plain": [
       "   CODIGO_CLIENTE   RENDA  UF  QT_DIAS_ATRASO\n",
       "0            5695  1800.0  MT             202\n",
       "1            5705  3000.0  GO             531\n",
       "2            5711  3600.0  MT             191\n",
       "3            5727  2500.0  GO             113\n",
       "4            5994  2000.0  BA            2220"
      ]
     },
     "execution_count": 3,
     "metadata": {},
     "output_type": "execute_result"
    }
   ],
   "source": [
    "# Visualizando as primeiras linhas do arquivo\n",
    "df_original.head()"
   ]
  },
  {
   "cell_type": "code",
   "execution_count": 4,
   "id": "a8f89b38",
   "metadata": {},
   "outputs": [
    {
     "name": "stdout",
     "output_type": "stream",
     "text": [
      "-57\n",
      "2735\n"
     ]
    }
   ],
   "source": [
    "# Visualizar os dias mínimos e máximos de atraso\n",
    "print(df_original['QT_DIAS_ATRASO'].min())\n",
    "print(df_original['QT_DIAS_ATRASO'].max())"
   ]
  },
  {
   "cell_type": "code",
   "execution_count": 5,
   "id": "6223d245",
   "metadata": {},
   "outputs": [],
   "source": [
    "# Vamos filtrar e utilizar somente valores igual ou maior que zero\n",
    "df_original = df_original.loc[df_original['QT_DIAS_ATRASO'] >= 0]"
   ]
  },
  {
   "cell_type": "code",
   "execution_count": 6,
   "id": "8fe5a695",
   "metadata": {},
   "outputs": [
    {
     "name": "stdout",
     "output_type": "stream",
     "text": [
      "0\n",
      "2735\n"
     ]
    }
   ],
   "source": [
    "# Visualizando novamente após o ajuste\n",
    "print(df_original['QT_DIAS_ATRASO'].min())\n",
    "print(df_original['QT_DIAS_ATRASO'].max())"
   ]
  },
  {
   "cell_type": "code",
   "execution_count": 7,
   "id": "63868e96",
   "metadata": {},
   "outputs": [
    {
     "name": "stdout",
     "output_type": "stream",
     "text": [
      "0.0\n",
      "3000000000.0\n"
     ]
    }
   ],
   "source": [
    "# Vamos avaliar os valores mínimos e máximos de renda\n",
    "print(df_original['RENDA'].min())\n",
    "print(df_original['RENDA'].max())"
   ]
  },
  {
   "cell_type": "code",
   "execution_count": 8,
   "id": "68f26396",
   "metadata": {},
   "outputs": [],
   "source": [
    "# Ajustar para obtermos somente os valores acima de 1.000 e menor que 100.000\n",
    "df_original = df_original.loc[df_original['RENDA'] > 1000]\n",
    "df_original = df_original.loc[df_original['RENDA'] <= 100000]"
   ]
  },
  {
   "cell_type": "code",
   "execution_count": 9,
   "id": "6a73e69c",
   "metadata": {},
   "outputs": [
    {
     "name": "stdout",
     "output_type": "stream",
     "text": [
      "1000.2\n",
      "100000.0\n"
     ]
    }
   ],
   "source": [
    "# Visualizando novamente após o ajuste\n",
    "print(df_original['RENDA'].min())\n",
    "print(df_original['RENDA'].max())"
   ]
  },
  {
   "cell_type": "code",
   "execution_count": 10,
   "id": "c313c277",
   "metadata": {},
   "outputs": [
    {
     "data": {
      "text/plain": [
       "Máximo    91896\n",
       "Alto       6430\n",
       "Baixo      3192\n",
       "Medio      3159\n",
       "Zero         39\n",
       "Name: RISCO, dtype: int64"
      ]
     },
     "execution_count": 10,
     "metadata": {},
     "output_type": "execute_result"
    }
   ],
   "source": [
    "# Vamos criar um novo campo que será uma categoria de RISCO\n",
    "bins = [-100, 0, 30, 60, 120,999999999]\n",
    "labels = ['Zero', 'Baixo', 'Medio', 'Alto', 'Máximo']\n",
    "df_original['RISCO'] = pd.cut(df_original['QT_DIAS_ATRASO'], bins=bins, labels=labels)\n",
    "pd.value_counts(df_original.RISCO)"
   ]
  },
  {
   "cell_type": "code",
   "execution_count": 11,
   "id": "e37afa1a",
   "metadata": {},
   "outputs": [
    {
     "data": {
      "text/plain": [
       "Media    54946\n",
       "Baixa    31199\n",
       "Alta     18571\n",
       "Name: FAIXA_RENDA, dtype: int64"
      ]
     },
     "execution_count": 11,
     "metadata": {},
     "output_type": "execute_result"
    }
   ],
   "source": [
    "# Vamos criar um novo campo que será uma categoria de faixa de renda\n",
    "bins = [-100, 2000, 6000, 100000]\n",
    "labels = ['Baixa', 'Media', 'Alta']\n",
    "df_original['FAIXA_RENDA'] = pd.cut(df_original['RENDA'], bins=bins, labels=labels)\n",
    "pd.value_counts(df_original.FAIXA_RENDA)"
   ]
  },
  {
   "cell_type": "code",
   "execution_count": 12,
   "id": "cc92d4b8",
   "metadata": {},
   "outputs": [
    {
     "data": {
      "text/html": [
       "<div>\n",
       "<style scoped>\n",
       "    .dataframe tbody tr th:only-of-type {\n",
       "        vertical-align: middle;\n",
       "    }\n",
       "\n",
       "    .dataframe tbody tr th {\n",
       "        vertical-align: top;\n",
       "    }\n",
       "\n",
       "    .dataframe thead th {\n",
       "        text-align: right;\n",
       "    }\n",
       "</style>\n",
       "<table border=\"1\" class=\"dataframe\">\n",
       "  <thead>\n",
       "    <tr style=\"text-align: right;\">\n",
       "      <th></th>\n",
       "      <th>CODIGO_CLIENTE</th>\n",
       "      <th>RENDA</th>\n",
       "      <th>UF</th>\n",
       "      <th>QT_DIAS_ATRASO</th>\n",
       "      <th>RISCO</th>\n",
       "      <th>FAIXA_RENDA</th>\n",
       "    </tr>\n",
       "  </thead>\n",
       "  <tbody>\n",
       "    <tr>\n",
       "      <th>0</th>\n",
       "      <td>5695</td>\n",
       "      <td>1800.0</td>\n",
       "      <td>MT</td>\n",
       "      <td>202</td>\n",
       "      <td>Máximo</td>\n",
       "      <td>Baixa</td>\n",
       "    </tr>\n",
       "    <tr>\n",
       "      <th>1</th>\n",
       "      <td>5705</td>\n",
       "      <td>3000.0</td>\n",
       "      <td>GO</td>\n",
       "      <td>531</td>\n",
       "      <td>Máximo</td>\n",
       "      <td>Media</td>\n",
       "    </tr>\n",
       "    <tr>\n",
       "      <th>2</th>\n",
       "      <td>5711</td>\n",
       "      <td>3600.0</td>\n",
       "      <td>MT</td>\n",
       "      <td>191</td>\n",
       "      <td>Máximo</td>\n",
       "      <td>Media</td>\n",
       "    </tr>\n",
       "    <tr>\n",
       "      <th>3</th>\n",
       "      <td>5727</td>\n",
       "      <td>2500.0</td>\n",
       "      <td>GO</td>\n",
       "      <td>113</td>\n",
       "      <td>Alto</td>\n",
       "      <td>Media</td>\n",
       "    </tr>\n",
       "    <tr>\n",
       "      <th>4</th>\n",
       "      <td>5994</td>\n",
       "      <td>2000.0</td>\n",
       "      <td>BA</td>\n",
       "      <td>2220</td>\n",
       "      <td>Máximo</td>\n",
       "      <td>Baixa</td>\n",
       "    </tr>\n",
       "  </tbody>\n",
       "</table>\n",
       "</div>"
      ],
      "text/plain": [
       "   CODIGO_CLIENTE   RENDA  UF  QT_DIAS_ATRASO   RISCO FAIXA_RENDA\n",
       "0            5695  1800.0  MT             202  Máximo       Baixa\n",
       "1            5705  3000.0  GO             531  Máximo       Media\n",
       "2            5711  3600.0  MT             191  Máximo       Media\n",
       "3            5727  2500.0  GO             113    Alto       Media\n",
       "4            5994  2000.0  BA            2220  Máximo       Baixa"
      ]
     },
     "execution_count": 12,
     "metadata": {},
     "output_type": "execute_result"
    }
   ],
   "source": [
    "# Visualizando o DataFrame\n",
    "df_original.head()"
   ]
  },
  {
   "cell_type": "code",
   "execution_count": null,
   "id": "9990c468",
   "metadata": {},
   "outputs": [],
   "source": [
    "# Gerando o gráfico de contagem Risco\n",
    "plt.rcParams[\"figure.figsize\"] = [14.00, 5.00]\n",
    "plt.rcParams[\"figure.autolayout\"] = True\n",
    "\n",
    "sns.countplot(x = 'RISCO', data = df_original,order=df_original['RISCO'].value_counts().index)\n",
    "\n",
    "plt.show()"
   ]
  },
  {
   "cell_type": "code",
   "execution_count": null,
   "id": "38fe64af",
   "metadata": {},
   "outputs": [],
   "source": [
    "# Gerando o gráfico de contagem por faixa de renda\n",
    "plt.rcParams[\"figure.figsize\"] = [14.00, 5.00]\n",
    "plt.rcParams[\"figure.autolayout\"] = True\n",
    "\n",
    "sns.countplot(x = 'FAIXA_RENDA', data = df_original,order=df_original['FAIXA_RENDA'].value_counts().index)\n",
    "\n",
    "plt.show()"
   ]
  },
  {
   "cell_type": "code",
   "execution_count": null,
   "id": "0bbf29af",
   "metadata": {},
   "outputs": [],
   "source": []
  }
 ],
 "metadata": {
  "kernelspec": {
   "display_name": "Python 3 (ipykernel)",
   "language": "python",
   "name": "python3"
  },
  "language_info": {
   "codemirror_mode": {
    "name": "ipython",
    "version": 3
   },
   "file_extension": ".py",
   "mimetype": "text/x-python",
   "name": "python",
   "nbconvert_exporter": "python",
   "pygments_lexer": "ipython3",
   "version": "3.9.12"
  }
 },
 "nbformat": 4,
 "nbformat_minor": 5
}
